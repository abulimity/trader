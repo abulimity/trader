{
 "cells": [
  {
   "cell_type": "code",
   "execution_count": 9,
   "id": "initial_id",
   "metadata": {
    "collapsed": true,
    "ExecuteTime": {
     "end_time": "2025-06-11T02:55:42.649932100Z",
     "start_time": "2025-06-11T02:55:41.089373300Z"
    }
   },
   "outputs": [],
   "source": [
    "import pandas as pd\n",
    "import sqlite3\n",
    "from setting import database_path\n",
    "con = sqlite3.connect(database=database_path)\n",
    "with sqlite3.connect(database=database_path) as con:\n",
    "    # OHLCV\n",
    "    stock_sql_str = \"select t.stock_id ,t.open,t.high ,t.low ,t.close,t.volume,t.amount,t.date  from stock_data t where t.date = '%s'\" % (\n",
    "        '2024-12-31')\n",
    "    data = pd.read_sql_query(\n",
    "        sql=stock_sql_str,\n",
    "        con=con,\n",
    "        index_col='date',\n",
    "        parse_dates=['date']\n",
    "    )"
   ]
  },
  {
   "cell_type": "code",
   "execution_count": 6,
   "outputs": [
    {
     "data": {
      "text/plain": "(1889, 6)"
     },
     "execution_count": 6,
     "metadata": {},
     "output_type": "execute_result"
    }
   ],
   "source": [
    "data.shape"
   ],
   "metadata": {
    "collapsed": false,
    "ExecuteTime": {
     "end_time": "2025-06-11T02:53:18.810237500Z",
     "start_time": "2025-06-11T02:53:18.802104700Z"
    }
   },
   "id": "b294c87048497adb"
  },
  {
   "cell_type": "code",
   "execution_count": 27,
   "outputs": [
    {
     "data": {
      "text/plain": "date\n2024-12-31    00700\n2024-12-31    00981\n2024-12-31    09988\n2024-12-31    03033\n2024-12-31    01810\n              ...  \n2024-12-31    03908\n2024-12-31    01119\n2024-12-31    01918\n2024-12-31    02688\n2024-12-31    00006\nName: stock_id, Length: 100, dtype: object"
     },
     "execution_count": 27,
     "metadata": {},
     "output_type": "execute_result"
    }
   ],
   "source": [
    "# selected = data.df[data.df['close'] > 1].sort_values(by='volume', ascending=False)[:100,['stock_id']]\n",
    "selected = data[data['close']>1].sort_values(by='amount', ascending=False).iloc[:100,0].reset_index()['stock_id']\n",
    "selected"
   ],
   "metadata": {
    "collapsed": false,
    "ExecuteTime": {
     "end_time": "2025-06-11T03:01:19.581510Z",
     "start_time": "2025-06-11T03:01:19.562421Z"
    }
   },
   "id": "a181d49dfa8e2aa0"
  },
  {
   "cell_type": "code",
   "execution_count": 31,
   "outputs": [
    {
     "data": {
      "text/plain": "0     00700\n1     00981\n2     09988\n3     03033\n4     01810\n      ...  \n95    03908\n96    01119\n97    01918\n98    02688\n99    00006\nName: stock_id, Length: 100, dtype: object"
     },
     "execution_count": 31,
     "metadata": {},
     "output_type": "execute_result"
    }
   ],
   "source": [
    "selected = selected.reset_index()['stock_id']"
   ],
   "metadata": {
    "collapsed": false,
    "ExecuteTime": {
     "end_time": "2025-06-11T03:02:05.251924200Z",
     "start_time": "2025-06-11T03:02:05.210586100Z"
    }
   },
   "id": "8cfe5db65bea07a3"
  },
  {
   "cell_type": "code",
   "execution_count": 36,
   "outputs": [
    {
     "data": {
      "text/plain": "           stock_id    open     high     low    close   volume       amount\ndate                                                                       \n2024-12-31    00001  40.004  40.4388  40.004  40.1006  2190255  91075607.55",
      "text/html": "<div>\n<style scoped>\n    .dataframe tbody tr th:only-of-type {\n        vertical-align: middle;\n    }\n\n    .dataframe tbody tr th {\n        vertical-align: top;\n    }\n\n    .dataframe thead th {\n        text-align: right;\n    }\n</style>\n<table border=\"1\" class=\"dataframe\">\n  <thead>\n    <tr style=\"text-align: right;\">\n      <th></th>\n      <th>stock_id</th>\n      <th>open</th>\n      <th>high</th>\n      <th>low</th>\n      <th>close</th>\n      <th>volume</th>\n      <th>amount</th>\n    </tr>\n    <tr>\n      <th>date</th>\n      <th></th>\n      <th></th>\n      <th></th>\n      <th></th>\n      <th></th>\n      <th></th>\n      <th></th>\n    </tr>\n  </thead>\n  <tbody>\n    <tr>\n      <th>2024-12-31</th>\n      <td>00001</td>\n      <td>40.004</td>\n      <td>40.4388</td>\n      <td>40.004</td>\n      <td>40.1006</td>\n      <td>2190255</td>\n      <td>91075607.55</td>\n    </tr>\n  </tbody>\n</table>\n</div>"
     },
     "execution_count": 36,
     "metadata": {},
     "output_type": "execute_result"
    }
   ],
   "source": [
    "data[data['stock_id']=='00001']"
   ],
   "metadata": {
    "collapsed": false,
    "ExecuteTime": {
     "end_time": "2025-06-11T04:21:30.283784Z",
     "start_time": "2025-06-11T04:21:30.262576Z"
    }
   },
   "id": "64993f1527bb7b25"
  },
  {
   "cell_type": "code",
   "execution_count": 8,
   "outputs": [],
   "source": [
    "import pandas_market_calendars as mcal\n",
    "hkex = mcal.get_calendar('HKEX')\n",
    "hkex.schedule(start_date='2024-01-01',end_date='2024-01-10')"
   ],
   "metadata": {
    "collapsed": false,
    "ExecuteTime": {
     "end_time": "2025-06-13T04:26:00.612594Z",
     "start_time": "2025-06-13T04:26:00.366905900Z"
    }
   },
   "id": "101178cb0e427fc3"
  },
  {
   "cell_type": "code",
   "execution_count": 7,
   "outputs": [
    {
     "data": {
      "text/plain": "DatetimeIndex(['2024-01-02 00:00:00+00:00', '2024-01-03 00:00:00+00:00',\n               '2024-01-04 00:00:00+00:00', '2024-01-05 00:00:00+00:00',\n               '2024-01-08 00:00:00+00:00', '2024-01-09 00:00:00+00:00',\n               '2024-01-10 00:00:00+00:00'],\n              dtype='datetime64[ns, UTC]', freq='C')"
     },
     "execution_count": 7,
     "metadata": {},
     "output_type": "execute_result"
    }
   ],
   "source": [
    "hkex.valid_days(start_date='2024-01-01',end_date='2024-01-10')"
   ],
   "metadata": {
    "collapsed": false,
    "ExecuteTime": {
     "end_time": "2025-06-13T04:25:51.179019200Z",
     "start_time": "2025-06-13T04:25:51.133385900Z"
    }
   },
   "id": "616fcea115636755"
  },
  {
   "cell_type": "code",
   "execution_count": 10,
   "outputs": [
    {
     "data": {
      "text/plain": "                         market_open               break_start  \\\n2024-01-02 2024-01-02 09:30:00+08:00 2024-01-02 12:00:00+08:00   \n2024-01-03 2024-01-03 09:30:00+08:00 2024-01-03 12:00:00+08:00   \n2024-01-04 2024-01-04 09:30:00+08:00 2024-01-04 12:00:00+08:00   \n2024-01-05 2024-01-05 09:30:00+08:00 2024-01-05 12:00:00+08:00   \n2024-01-08 2024-01-08 09:30:00+08:00 2024-01-08 12:00:00+08:00   \n2024-01-09 2024-01-09 09:30:00+08:00 2024-01-09 12:00:00+08:00   \n2024-01-10 2024-01-10 09:30:00+08:00 2024-01-10 12:00:00+08:00   \n\n                           break_end              market_close  \n2024-01-02 2024-01-02 13:00:00+08:00 2024-01-02 16:00:00+08:00  \n2024-01-03 2024-01-03 13:00:00+08:00 2024-01-03 16:00:00+08:00  \n2024-01-04 2024-01-04 13:00:00+08:00 2024-01-04 16:00:00+08:00  \n2024-01-05 2024-01-05 13:00:00+08:00 2024-01-05 16:00:00+08:00  \n2024-01-08 2024-01-08 13:00:00+08:00 2024-01-08 16:00:00+08:00  \n2024-01-09 2024-01-09 13:00:00+08:00 2024-01-09 16:00:00+08:00  \n2024-01-10 2024-01-10 13:00:00+08:00 2024-01-10 16:00:00+08:00  ",
      "text/html": "<div>\n<style scoped>\n    .dataframe tbody tr th:only-of-type {\n        vertical-align: middle;\n    }\n\n    .dataframe tbody tr th {\n        vertical-align: top;\n    }\n\n    .dataframe thead th {\n        text-align: right;\n    }\n</style>\n<table border=\"1\" class=\"dataframe\">\n  <thead>\n    <tr style=\"text-align: right;\">\n      <th></th>\n      <th>market_open</th>\n      <th>break_start</th>\n      <th>break_end</th>\n      <th>market_close</th>\n    </tr>\n  </thead>\n  <tbody>\n    <tr>\n      <th>2024-01-02</th>\n      <td>2024-01-02 09:30:00+08:00</td>\n      <td>2024-01-02 12:00:00+08:00</td>\n      <td>2024-01-02 13:00:00+08:00</td>\n      <td>2024-01-02 16:00:00+08:00</td>\n    </tr>\n    <tr>\n      <th>2024-01-03</th>\n      <td>2024-01-03 09:30:00+08:00</td>\n      <td>2024-01-03 12:00:00+08:00</td>\n      <td>2024-01-03 13:00:00+08:00</td>\n      <td>2024-01-03 16:00:00+08:00</td>\n    </tr>\n    <tr>\n      <th>2024-01-04</th>\n      <td>2024-01-04 09:30:00+08:00</td>\n      <td>2024-01-04 12:00:00+08:00</td>\n      <td>2024-01-04 13:00:00+08:00</td>\n      <td>2024-01-04 16:00:00+08:00</td>\n    </tr>\n    <tr>\n      <th>2024-01-05</th>\n      <td>2024-01-05 09:30:00+08:00</td>\n      <td>2024-01-05 12:00:00+08:00</td>\n      <td>2024-01-05 13:00:00+08:00</td>\n      <td>2024-01-05 16:00:00+08:00</td>\n    </tr>\n    <tr>\n      <th>2024-01-08</th>\n      <td>2024-01-08 09:30:00+08:00</td>\n      <td>2024-01-08 12:00:00+08:00</td>\n      <td>2024-01-08 13:00:00+08:00</td>\n      <td>2024-01-08 16:00:00+08:00</td>\n    </tr>\n    <tr>\n      <th>2024-01-09</th>\n      <td>2024-01-09 09:30:00+08:00</td>\n      <td>2024-01-09 12:00:00+08:00</td>\n      <td>2024-01-09 13:00:00+08:00</td>\n      <td>2024-01-09 16:00:00+08:00</td>\n    </tr>\n    <tr>\n      <th>2024-01-10</th>\n      <td>2024-01-10 09:30:00+08:00</td>\n      <td>2024-01-10 12:00:00+08:00</td>\n      <td>2024-01-10 13:00:00+08:00</td>\n      <td>2024-01-10 16:00:00+08:00</td>\n    </tr>\n  </tbody>\n</table>\n</div>"
     },
     "execution_count": 10,
     "metadata": {},
     "output_type": "execute_result"
    }
   ],
   "source": [
    "hkex.schedule(start_date='2024-01-01',end_date='2024-01-10',tz=hkex.tz)"
   ],
   "metadata": {
    "collapsed": false,
    "ExecuteTime": {
     "end_time": "2025-06-13T04:26:40.475162900Z",
     "start_time": "2025-06-13T04:26:40.394543500Z"
    }
   },
   "id": "e6264377e242ba64"
  }
 ],
 "metadata": {
  "kernelspec": {
   "display_name": "Python 3",
   "language": "python",
   "name": "python3"
  },
  "language_info": {
   "codemirror_mode": {
    "name": "ipython",
    "version": 2
   },
   "file_extension": ".py",
   "mimetype": "text/x-python",
   "name": "python",
   "nbconvert_exporter": "python",
   "pygments_lexer": "ipython2",
   "version": "2.7.6"
  }
 },
 "nbformat": 4,
 "nbformat_minor": 5
}
